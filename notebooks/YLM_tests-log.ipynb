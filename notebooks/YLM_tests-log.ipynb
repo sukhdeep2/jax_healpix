{
 "cells": [
  {
   "cell_type": "raw",
   "id": "505eb193",
   "metadata": {},
   "source": [
    "\n",
    "from skylens.wigner_transform import *\n",
    "from scipy.special import sph_harm"
   ]
  },
  {
   "cell_type": "raw",
   "id": "e13450d7",
   "metadata": {},
   "source": [
    "import jax\n",
    "import jax.numpy as jnp\n",
    "from jax import jit\n",
    "from jax.config import config\n",
    "config.update(\"jax_enable_x64\", True)"
   ]
  },
  {
   "cell_type": "code",
   "execution_count": 1,
   "id": "99c969db",
   "metadata": {},
   "outputs": [],
   "source": [
    "sys.path.append('../jax_healpix/')\n",
    "# from SPHT_jax import *\n",
    "from YLM_jax_log import *\n",
    "from YLM_jax import *\n",
    "from utils import *\n",
    "from reshape_utils import *"
   ]
  },
  {
   "cell_type": "code",
   "execution_count": 2,
   "id": "9cada21a",
   "metadata": {},
   "outputs": [],
   "source": [
    "from scipy.special import binom, jn, loggamma\n",
    "from scipy.special import eval_jacobi as jacobi"
   ]
  },
  {
   "cell_type": "code",
   "execution_count": 3,
   "id": "702529fc",
   "metadata": {},
   "outputs": [],
   "source": [
    "shift=1.e-2\n",
    "theta=jnp.linspace(0+shift,jnp.pi/2-shift,20)\n",
    "beta=jnp.cos(theta)\n",
    "beta_s = jnp.sin(jnp.arccos(beta))"
   ]
  },
  {
   "cell_type": "code",
   "execution_count": 4,
   "id": "eecd93b0",
   "metadata": {},
   "outputs": [],
   "source": [
    "log_beta=jnp.log(beta)"
   ]
  },
  {
   "cell_type": "code",
   "execution_count": 5,
   "id": "6a8d9080",
   "metadata": {},
   "outputs": [],
   "source": [
    "log_beta_s, _ = logsumexp(\n",
    "        2 * log_beta,\n",
    "        jnp.zeros_like(log_beta),\n",
    "        -1 * jnp.ones_like(log_beta),\n",
    "        jnp.ones_like(log_beta),\n",
    "    )  # sin^2=1-cos^2 = 1-beta^2\n",
    "log_beta_s *= 0.5  # sqrt"
   ]
  },
  {
   "cell_type": "code",
   "execution_count": 6,
   "id": "49af8fec",
   "metadata": {},
   "outputs": [
    {
     "data": {
      "text/plain": [
       "array([False, False, False, False, False, False, False, False, False,\n",
       "       False, False, False, False, False, False, False, False, False,\n",
       "       False, False])"
      ]
     },
     "execution_count": 6,
     "metadata": {},
     "output_type": "execute_result"
    }
   ],
   "source": [
    "log_beta_s<-100"
   ]
  },
  {
   "cell_type": "code",
   "execution_count": 7,
   "id": "abfb3afd",
   "metadata": {},
   "outputs": [
    {
     "data": {
      "text/plain": [
       "DeviceArray([-4.6050873e+00, -2.3914948e+00, -1.7580738e+00,\n",
       "             -1.3778799e+00, -1.1081483e+00, -9.0133119e-01,\n",
       "             -7.3566985e-01, -5.9938484e-01, -4.8538846e-01,\n",
       "             -3.8909677e-01, -3.0738509e-01, -2.3804165e-01,\n",
       "             -1.7945652e-01, -1.3043417e-01, -9.0077542e-02,\n",
       "             -5.7712141e-02, -3.2835245e-02, -1.5082036e-02,\n",
       "             -4.2030802e-03, -5.0009548e-05], dtype=float32)"
      ]
     },
     "execution_count": 7,
     "metadata": {},
     "output_type": "execute_result"
    }
   ],
   "source": [
    "jnp.log(beta_s)"
   ]
  },
  {
   "cell_type": "code",
   "execution_count": 8,
   "id": "2fa8c34d",
   "metadata": {},
   "outputs": [],
   "source": [
    "l_max=500\n",
    "l=np.arange(l_max)\n",
    "# l=np.arange(900,l_max)\n",
    "m1=0\n",
    "m2=l*1."
   ]
  },
  {
   "cell_type": "code",
   "execution_count": 9,
   "id": "55f105fe",
   "metadata": {},
   "outputs": [],
   "source": [
    "spin_max=2"
   ]
  },
  {
   "cell_type": "code",
   "execution_count": 10,
   "id": "7acb9e5d",
   "metadata": {
    "scrolled": false
   },
   "outputs": [
    {
     "name": "stderr",
     "output_type": "stream",
     "text": [
      "/home/deep/repos/SPHT/notebooks/../jax_healpix/YLM_jax.py:60: RuntimeWarning: divide by zero encountered in log\n",
      "  log_Alm = -1 * logdiffexp(2 * np.log(l), 2 * np.log(m))\n",
      "/home/deep/repos/SPHT/notebooks/../jax_healpix/utils.py:15: RuntimeWarning: divide by zero encountered in log\n",
      "  log_diff = np.log(1 - np.exp(log_b - log_a))\n",
      "/home/deep/repos/SPHT/notebooks/../jax_healpix/utils.py:15: RuntimeWarning: invalid value encountered in log\n",
      "  log_diff = np.log(1 - np.exp(log_b - log_a))\n",
      "/home/deep/repos/SPHT/notebooks/../jax_healpix/YLM_jax.py:70: RuntimeWarning: invalid value encountered in sqrt\n",
      "  return np.sqrt((2 * l + 1) * (l**2 - m**2) / (2 * l - 1))\n"
     ]
    },
    {
     "name": "stdout",
     "output_type": "stream",
     "text": [
      "CPU times: user 7.05 s, sys: 4.12 s, total: 11.2 s\n",
      "Wall time: 10.7 s\n"
     ]
    },
    {
     "name": "stderr",
     "output_type": "stream",
     "text": [
      "/home/deep/repos/SPHT/notebooks/../jax_healpix/YLM_jax_log.py:58: RuntimeWarning: divide by zero encountered in log\n",
      "  log_Alm = -1 * logdiffexp(2 * np.log(l), 2 * np.log(m))\n",
      "/home/deep/repos/SPHT/notebooks/../jax_healpix/utils.py:33: RuntimeWarning: invalid value encountered in subtract\n",
      "  log_s = max_Arr + np.log1p(sign_s * np.exp(min_Arr - max_Arr))\n",
      "/home/deep/repos/SPHT/notebooks/../jax_healpix/YLM_jax_log.py:105: RuntimeWarning: divide by zero encountered in log\n",
      "  log_m = np.log(m)\n",
      "/home/deep/repos/SPHT/notebooks/../jax_healpix/YLM_jax_log.py:94: RuntimeWarning: divide by zero encountered in log\n",
      "  return 0.5 * (np.log(2 * l + 1) + np.log(l**2 - m**2) - np.log(2 * l - 1))\n",
      "/home/deep/repos/SPHT/notebooks/../jax_healpix/YLM_jax_log.py:94: RuntimeWarning: invalid value encountered in log\n",
      "  return 0.5 * (np.log(2 * l + 1) + np.log(l**2 - m**2) - np.log(2 * l - 1))\n",
      "/home/deep/repos/SPHT/notebooks/../jax_healpix/utils.py:33: RuntimeWarning: divide by zero encountered in log1p\n",
      "  log_s = max_Arr + np.log1p(sign_s * np.exp(min_Arr - max_Arr))\n"
     ]
    },
    {
     "name": "stdout",
     "output_type": "stream",
     "text": [
      "CPU times: user 969 ms, sys: 44.9 ms, total: 1.01 s\n",
      "Wall time: 1.05 s\n"
     ]
    }
   ],
   "source": [
    "%time ylm=sYLM_recur(beta=beta,spins=(0,2),l_max=l_max-1)\n",
    "%time ylm_log=sYLM_recur_log(log_beta=jnp.log(beta),spins=(0,2),l_max=l_max-1)"
   ]
  },
  {
   "cell_type": "code",
   "execution_count": 11,
   "id": "a0f2ec4c",
   "metadata": {},
   "outputs": [
    {
     "data": {
      "text/plain": [
       "DeviceArray([-5.0009548e-05, -4.2030802e-03, -1.5082036e-02,\n",
       "             -3.2835308e-02, -5.7712205e-02, -9.0077609e-02,\n",
       "             -1.3043417e-01, -1.7945658e-01, -2.3804188e-01,\n",
       "             -3.0738509e-01, -3.8909677e-01, -4.8538876e-01,\n",
       "             -5.9938496e-01, -7.3566985e-01, -9.0133131e-01,\n",
       "             -1.1081486e+00, -1.3778805e+00, -1.7580748e+00,\n",
       "             -2.3914969e+00, -4.6051922e+00], dtype=float32)"
      ]
     },
     "execution_count": 11,
     "metadata": {},
     "output_type": "execute_result"
    }
   ],
   "source": [
    "jnp.log(beta)"
   ]
  },
  {
   "cell_type": "raw",
   "id": "5bc9aaa0",
   "metadata": {},
   "source": [
    "s=0\n",
    "ylm2={s:jnp.exp(ylm_log[s])*ylm_log[\"s0\"]}"
   ]
  },
  {
   "cell_type": "code",
   "execution_count": 12,
   "id": "a7b9efda",
   "metadata": {},
   "outputs": [],
   "source": [
    "ylm2=ylm_log"
   ]
  },
  {
   "cell_type": "code",
   "execution_count": 13,
   "id": "737a81af",
   "metadata": {},
   "outputs": [
    {
     "data": {
      "text/plain": [
       "(array([-0.0129265 , -0.11703702, -0.21455818, -0.30001712, -0.368657  ,\n",
       "        -0.41671727, -0.44165534, -0.44229669, -0.41890281, -0.37315327,\n",
       "        -0.3080438 , -0.22770567, -0.1371581 , -0.04200671,  0.05189247,\n",
       "         0.13878251,  0.21335077,  0.27104698,  0.30835487,  0.32300245]),\n",
       " array([-0.01292666, -0.1170375 , -0.21455804, -0.30001702, -0.36865699,\n",
       "        -0.41671725, -0.4416553 , -0.44229674, -0.41890285, -0.37315333,\n",
       "        -0.3080438 , -0.22770568, -0.13715812, -0.04200671,  0.05189247,\n",
       "         0.13878249,  0.21335078,  0.27104699,  0.30835487,  0.32300245]))"
      ]
     },
     "execution_count": 13,
     "metadata": {},
     "output_type": "execute_result"
    }
   ],
   "source": [
    "lt=3\n",
    "mt=1\n",
    "ylm[0][lt,mt,:],ylm2[0][lt,mt,:]#,ylm_log[0][lt,mt,:]"
   ]
  },
  {
   "cell_type": "code",
   "execution_count": 14,
   "id": "3e48d2fe",
   "metadata": {},
   "outputs": [],
   "source": [
    "log_Alm = log_A_lm(3, 1)\n",
    "log_Alm_prev = log_A_lm(3 - 1, 1)"
   ]
  },
  {
   "cell_type": "code",
   "execution_count": 15,
   "id": "34d8963d",
   "metadata": {},
   "outputs": [
    {
     "data": {
      "text/plain": [
       "(0.7379532599047887, 0.8047189562170503)"
      ]
     },
     "execution_count": 15,
     "metadata": {},
     "output_type": "execute_result"
    }
   ],
   "source": [
    "log_Alm,log_Alm_prev"
   ]
  },
  {
   "cell_type": "code",
   "execution_count": 16,
   "id": "22c135a7",
   "metadata": {},
   "outputs": [
    {
     "data": {
      "text/plain": [
       "DeviceArray(False, dtype=bool)"
      ]
     },
     "execution_count": 16,
     "metadata": {},
     "output_type": "execute_result"
    }
   ],
   "source": [
    "xx=jnp.isclose(ylm[0],ylm2[0])\n",
    "jnp.all(xx)"
   ]
  },
  {
   "cell_type": "code",
   "execution_count": 17,
   "id": "7969cee7",
   "metadata": {},
   "outputs": [
    {
     "data": {
      "text/plain": [
       "(DeviceArray([  2,   3,   4, ..., 499, 499, 499], dtype=int32),\n",
       " DeviceArray([  1,   1,   1, ..., 496, 497, 498], dtype=int32),\n",
       " DeviceArray([ 0,  0,  0, ..., 17, 17, 17], dtype=int32))"
      ]
     },
     "execution_count": 17,
     "metadata": {},
     "output_type": "execute_result"
    }
   ],
   "source": [
    "jnp.where(~xx)"
   ]
  },
  {
   "cell_type": "code",
   "execution_count": 18,
   "id": "b0383d06",
   "metadata": {},
   "outputs": [
    {
     "data": {
      "text/plain": [
       "DeviceArray(False, dtype=bool)"
      ]
     },
     "execution_count": 18,
     "metadata": {},
     "output_type": "execute_result"
    }
   ],
   "source": [
    "jnp.all(ylm[0][jnp.where(~xx)]==0)"
   ]
  },
  {
   "cell_type": "code",
   "execution_count": 19,
   "id": "43679307",
   "metadata": {},
   "outputs": [
    {
     "data": {
      "text/plain": [
       "array([-0.00772574, -0.01292666, -0.0189208 , ...,  0.04726337,\n",
       "       -0.01593618,  0.00422121])"
      ]
     },
     "execution_count": 19,
     "metadata": {},
     "output_type": "execute_result"
    }
   ],
   "source": [
    "ylm2[0][jnp.where(~xx)]"
   ]
  },
  {
   "cell_type": "code",
   "execution_count": 20,
   "id": "c14b0977",
   "metadata": {},
   "outputs": [
    {
     "data": {
      "text/plain": [
       "(DeviceArray([  2,   3,   4, ..., 499, 499, 499], dtype=int32),\n",
       " DeviceArray([  1,   1,   1, ..., 496, 497, 498], dtype=int32),\n",
       " DeviceArray([ 0,  0,  0, ..., 17, 17, 17], dtype=int32))"
      ]
     },
     "execution_count": 20,
     "metadata": {},
     "output_type": "execute_result"
    }
   ],
   "source": [
    "jnp.where(~xx)"
   ]
  },
  {
   "cell_type": "code",
   "execution_count": 21,
   "id": "eec4238f",
   "metadata": {},
   "outputs": [
    {
     "data": {
      "text/plain": [
       "DeviceArray([ 0,  1,  2,  3,  4,  5,  6,  7,  8,  9, 10, 11, 12, 13, 14,\n",
       "             15, 16, 17, 18, 19], dtype=int32)"
      ]
     },
     "execution_count": 21,
     "metadata": {},
     "output_type": "execute_result"
    }
   ],
   "source": [
    "jnp.unique(jnp.where(~xx)[2])"
   ]
  },
  {
   "cell_type": "raw",
   "id": "83111dad",
   "metadata": {},
   "source": [
    "lt=49\n",
    "mt=49\n",
    "ylm[0][lt,mt,:],ylm2[0][lt,mt,:],ylm_log[0][lt,mt,:]"
   ]
  },
  {
   "cell_type": "code",
   "execution_count": 22,
   "id": "317f46bc",
   "metadata": {},
   "outputs": [
    {
     "data": {
      "text/plain": [
       "DeviceArray(False, dtype=bool)"
      ]
     },
     "execution_count": 22,
     "metadata": {},
     "output_type": "execute_result"
    }
   ],
   "source": [
    "s=2\n",
    "xx=jnp.isclose(ylm[s][:,:,0],ylm2[s][:,:,0])\n",
    "jnp.all(xx)"
   ]
  },
  {
   "cell_type": "code",
   "execution_count": 23,
   "id": "dc09a986",
   "metadata": {},
   "outputs": [
    {
     "data": {
      "text/plain": [
       "DeviceArray(False, dtype=bool)"
      ]
     },
     "execution_count": 23,
     "metadata": {},
     "output_type": "execute_result"
    }
   ],
   "source": [
    "s=-2\n",
    "xx=jnp.isclose(ylm[s][:,:,0],ylm2[s][:,:,0])\n",
    "jnp.all(xx)"
   ]
  },
  {
   "cell_type": "raw",
   "id": "7583b633",
   "metadata": {},
   "source": [
    "xx=jnp.isclose(ylm[2],ylm2[2])\n",
    "jnp.all(xx)"
   ]
  },
  {
   "cell_type": "code",
   "execution_count": 24,
   "id": "887122a3",
   "metadata": {},
   "outputs": [],
   "source": [
    "lt,mt=jnp.where(~xx)"
   ]
  },
  {
   "cell_type": "raw",
   "id": "0e7b3156",
   "metadata": {},
   "source": [
    "lt=2\n",
    "mt=1\n",
    "th_i=0\n",
    "\n",
    "alm=alpha_lm(lt,mt)\n",
    "alm_log=log_alpha_lm(lt,mt)\n",
    "\n",
    "ylm[s][lt,mt,th_i],ylm2[s][lt,mt,th_i],ylm[s][lt,mt,th_i]/ylm2[s][lt,mt,th_i]"
   ]
  },
  {
   "cell_type": "code",
   "execution_count": 25,
   "id": "2d342327",
   "metadata": {},
   "outputs": [
    {
     "data": {
      "text/plain": [
       "array([[-3.15409870e-03, -2.88559297e-02, -5.43661504e-02, ...,\n",
       "        -3.10670517e-01, -3.14068735e-01, -3.15375796e-01],\n",
       "       [-5.90033431e-03, -5.37580714e-02, -1.00187334e-01, ...,\n",
       "        -1.00187121e-01, -5.37582128e-02, -5.90001109e-03],\n",
       "       [ 4.57060836e-03,  4.16411703e-02,  7.76046155e-02, ...,\n",
       "         7.76046101e-02,  4.16409327e-02,  4.57012895e-03],\n",
       "       ...,\n",
       "       [ 1.54641988e-03, -5.67106360e-01,  7.67198852e-02, ...,\n",
       "         1.68418875e-02, -1.63525781e-02,  1.59180377e-02],\n",
       "       [-3.35802812e-04,  2.54057510e-02,  2.17973231e-01, ...,\n",
       "         1.92342452e-03, -3.44674648e-03,  4.94068671e-03],\n",
       "       [ 6.68730519e-05,  6.28284854e-01, -1.62902614e-01, ...,\n",
       "        -1.94520122e-02,  1.88863089e-02, -1.83689035e-02]])"
      ]
     },
     "execution_count": 25,
     "metadata": {},
     "output_type": "execute_result"
    }
   ],
   "source": [
    "ylm2[s][jnp.where(~xx)]"
   ]
  },
  {
   "cell_type": "code",
   "execution_count": 26,
   "id": "029fc0f0",
   "metadata": {},
   "outputs": [
    {
     "data": {
      "text/plain": [
       "array([[-3.15424572e-03, -2.88561357e-02, -5.43662376e-02, ...,\n",
       "        -3.10670529e-01, -3.14068742e-01, -3.15375800e-01],\n",
       "       [-5.90246057e-03, -5.37586719e-02, -1.00187276e-01, ...,\n",
       "        -1.00187129e-01, -5.37582159e-02, -5.90001129e-03],\n",
       "       [ 4.57055205e-03,  4.16410046e-02,  7.76046776e-02, ...,\n",
       "         7.76046077e-02,  4.16409344e-02,  4.57012881e-03],\n",
       "       ...,\n",
       "       [ 1.54588645e-03, -5.67091861e-01,  7.67205073e-02, ...,\n",
       "         1.68418804e-02, -1.63525707e-02,  1.59180358e-02],\n",
       "       [-3.35695033e-04,  2.54049742e-02,  2.17974632e-01, ...,\n",
       "         1.92340861e-03, -3.44678677e-03,  4.94068580e-03],\n",
       "       [ 6.68566968e-05,  6.28267270e-01, -1.62902376e-01, ...,\n",
       "        -1.94520101e-02,  1.88862970e-02, -1.83689015e-02]])"
      ]
     },
     "execution_count": 26,
     "metadata": {},
     "output_type": "execute_result"
    }
   ],
   "source": [
    "ylm[s][jnp.where(~xx)]"
   ]
  },
  {
   "cell_type": "code",
   "execution_count": 39,
   "id": "2da11501",
   "metadata": {},
   "outputs": [
    {
     "data": {
      "text/plain": [
       "array([[0.99406064, 1.00002139, 1.00000344, ..., 0.99999995, 0.99999999,\n",
       "        0.99999993],\n",
       "       [0.99486189, 1.0000148 , 1.00000312, ..., 1.00000004, 1.        ,\n",
       "        1.00000003],\n",
       "       [0.99998715, 0.99999616, 1.00000094, ..., 1.00000011, 0.99999997,\n",
       "        0.99999994],\n",
       "       ...,\n",
       "       [0.99972035, 1.00003471, 1.00000744, ..., 0.99999687, 1.0000099 ,\n",
       "        0.99999982],\n",
       "       [0.9997253 , 0.9999262 , 1.00000756, ..., 0.99999957, 0.9999993 ,\n",
       "        0.99999991],\n",
       "       [0.99978138, 1.0000012 , 1.0000246 , ..., 0.99999634, 1.0000123 ,\n",
       "        0.9999999 ]])"
      ]
     },
     "execution_count": 39,
     "metadata": {},
     "output_type": "execute_result"
    }
   ],
   "source": [
    "ylm[s][jnp.where(~xx)]/ylm2[s][jnp.where(~xx)]"
   ]
  },
  {
   "cell_type": "code",
   "execution_count": 27,
   "id": "55ad967e",
   "metadata": {},
   "outputs": [
    {
     "name": "stderr",
     "output_type": "stream",
     "text": [
      "/home/deep/repos/SPHT/notebooks/../jax_healpix/YLM_jax_log.py:94: RuntimeWarning: divide by zero encountered in log\n",
      "  return 0.5 * (np.log(2 * l + 1) + np.log(l**2 - m**2) - np.log(2 * l - 1))\n"
     ]
    },
    {
     "data": {
      "text/plain": [
       "(0.23011518853218346, 0.3648087233213425)"
      ]
     },
     "execution_count": 27,
     "metadata": {},
     "output_type": "execute_result"
    }
   ],
   "source": [
    "s=2\n",
    "lt=2\n",
    "mt=2\n",
    "th_i=10\n",
    "\n",
    "alm=alpha_lm(lt,mt)\n",
    "alm_log=log_alpha_lm(lt,mt)\n",
    "\n",
    "ylm[s][lt,mt,th_i],ylm[s][lt,mt,th_i]/(np.sqrt(2*lt+1)/np.sqrt(4*np.pi))"
   ]
  },
  {
   "cell_type": "code",
   "execution_count": 28,
   "id": "5aecca55",
   "metadata": {},
   "outputs": [
    {
     "data": {
      "text/plain": [
       "(DeviceArray(0.6776687, dtype=float32), DeviceArray(0.82620865, dtype=float32))"
      ]
     },
     "execution_count": 28,
     "metadata": {},
     "output_type": "execute_result"
    }
   ],
   "source": [
    "beta[th_i],theta[th_i]"
   ]
  },
  {
   "cell_type": "code",
   "execution_count": 29,
   "id": "e893169d",
   "metadata": {},
   "outputs": [],
   "source": [
    "def log_binom(x,y):\n",
    "    return loggamma(x+1)-loggamma(y+1)-loggamma(x-y+1)\n",
    "def wigner_d2(m1, m2, theta, l, l_use_bessel=1.0e3):\n",
    "    \"\"\"\n",
    "    Function to compute wigner small-d matrices.\n",
    "    This maybe less accurate than our main jax functions which use recursion.\n",
    "    \"\"\"\n",
    "    l=l[:,None,None]\n",
    "    m2=m2[None,:,None]\n",
    "    m1=m1*np.ones_like(m2)\n",
    "    theta=theta[None,None,:]\n",
    "    k = np.amin([l - m1, l - m2, l + m1, l + m2], axis=0)\n",
    "    a = np.absolute(m1 - m2)\n",
    "    lamb = m2 - m1  # lambda\n",
    "    x=m2<=m1\n",
    "    lamb[x]=0\n",
    "    b = 2 * l - 2 * k - a\n",
    "\n",
    "#     d_mat = np.sqrt(\n",
    "#         binom(2 * l - k, k + a)\n",
    "#     )\n",
    "    d_mat=0.5*log_binom(2 * l - k, k + a)\n",
    "    \n",
    "#     d_mat /= np.sqrt(binom(k + b, b))\n",
    "    d_mat-=0.5*log_binom(k + b, b)\n",
    "    x = k+b < b\n",
    "    d_mat[x] = -np.inf\n",
    "  \n",
    "    beta_s=np.sin(theta / 2.0)\n",
    "    beta=np.cos(theta / 2.0)\n",
    "    \n",
    "    d_mat=d_mat+a*np.log(np.absolute(beta_s))+b*np.log(np.absolute(beta))\n",
    "    sign_dmat=np.sign(beta_s)**a\n",
    "    sign_dmat=sign_dmat*(np.sign(beta)**b)\n",
    "    \n",
    "    d_mat=sign_dmat*np.exp(d_mat)\n",
    "#     d_mat[x]=0\n",
    "    x = d_mat == 0\n",
    "    d_mat *= jacobi(k, a, b, np.cos(theta))  # l\n",
    "    \n",
    "    d_mat*=(-1)**lamb[0,:,0][None,:,None]\n",
    "    \n",
    "    d_mat[x] = 0\n",
    "\n",
    "    if l_use_bessel is not None:\n",
    "        x = l[:,0,0] >= l_use_bessel\n",
    "\n",
    "        d_mat[x,:,:]=jn(m1-m2,l[x,:,:]*theta)\n",
    "    return d_mat\n"
   ]
  },
  {
   "cell_type": "code",
   "execution_count": 30,
   "id": "81723812",
   "metadata": {},
   "outputs": [
    {
     "data": {
      "text/plain": [
       "(array([[[0.70364309]]]),\n",
       " array([[[0.02597438]]]),\n",
       " array([[[0.72961746]]]),\n",
       " DeviceArray(0.6776687, dtype=float32),\n",
       " DeviceArray(0.82620865, dtype=float32))"
      ]
     },
     "execution_count": 30,
     "metadata": {},
     "output_type": "execute_result"
    }
   ],
   "source": [
    "s=2\n",
    "lt=2\n",
    "mt=2\n",
    "th_i=10\n",
    "\n",
    "alm=alpha_lm(lt,mt)\n",
    "\n",
    "wd=wigner_d2(s, np.atleast_1d(mt), np.atleast_1d(theta[th_i]), np.atleast_1d(lt))\n",
    "wd2=wigner_d2(-s, np.atleast_1d(mt), np.atleast_1d(theta[th_i]), np.atleast_1d(lt))\n",
    "\n",
    "ylm_t=wd*np.sqrt(2*lt+1)/np.sqrt(4*np.pi)\n",
    "ylm_t2=wd2*np.sqrt(2*lt+1)/np.sqrt(4*np.pi)\n",
    "\n",
    "wd,wd2,wd+wd2,beta[th_i],theta[th_i]\n",
    "#https://www.wolframalpha.com/input?i=WignerD%5B%7B2%2C2%2C-2%7D%2C0%2C0.82620859%2C0%5D%2BWignerD%5B%7B2%2C2%2C2%7D%2C0%2C0.82620859%2C0%5D"
   ]
  },
  {
   "cell_type": "code",
   "execution_count": 31,
   "id": "4876a5d8",
   "metadata": {},
   "outputs": [
    {
     "data": {
      "text/plain": [
       "(0.016384183681506903, 0.44384619338286)"
      ]
     },
     "execution_count": 31,
     "metadata": {},
     "output_type": "execute_result"
    }
   ],
   "source": [
    "ylm[s][lt,mt,th_i]+ylm[-s][lt,mt,th_i], ylm[s][lt,mt,th_i]-ylm[-s][lt,mt,th_i]"
   ]
  },
  {
   "cell_type": "code",
   "execution_count": 32,
   "id": "3e08a655",
   "metadata": {
    "scrolled": true
   },
   "outputs": [
    {
     "data": {
      "text/plain": [
       "(array([[[0.44384619]]]), array([[[0.0163842]]]))"
      ]
     },
     "execution_count": 32,
     "metadata": {},
     "output_type": "execute_result"
    }
   ],
   "source": [
    "ylm_t,ylm_t2"
   ]
  },
  {
   "cell_type": "code",
   "execution_count": 33,
   "id": "413a5dc2",
   "metadata": {},
   "outputs": [
    {
     "data": {
      "text/plain": [
       "(array([[[0.99999998]]]), array([[[0.23011519]]]))"
      ]
     },
     "execution_count": 33,
     "metadata": {},
     "output_type": "execute_result"
    }
   ],
   "source": [
    "ylm[s][lt,mt,th_i]/((ylm_t+ylm_t2)/2),((ylm_t+ylm_t2)/2)"
   ]
  },
  {
   "cell_type": "code",
   "execution_count": 34,
   "id": "9af7c65d",
   "metadata": {},
   "outputs": [
    {
     "data": {
      "text/plain": [
       "DeviceArray(0.77254844, dtype=float32)"
      ]
     },
     "execution_count": 34,
     "metadata": {},
     "output_type": "execute_result"
    }
   ],
   "source": [
    "ylm[0][lt,mt,th_i]*(2*(mt**2-lt)-(lt*(lt-1)))/beta_s[th_i]**2 #+ ylm[0][lt-1,mt,th_i]*(2*alm*beta[th_i]/beta_s[th_i]**2)"
   ]
  },
  {
   "cell_type": "code",
   "execution_count": 35,
   "id": "d2d8d6e7",
   "metadata": {},
   "outputs": [
    {
     "data": {
      "text/plain": [
       "0.23011518853218346"
      ]
     },
     "execution_count": 35,
     "metadata": {},
     "output_type": "execute_result"
    }
   ],
   "source": [
    "ylm[s][lt,mt,th_i]"
   ]
  },
  {
   "cell_type": "code",
   "execution_count": 36,
   "id": "7a58dc0b",
   "metadata": {},
   "outputs": [
    {
     "data": {
      "text/plain": [
       "-0.21373100485067656"
      ]
     },
     "execution_count": 36,
     "metadata": {},
     "output_type": "execute_result"
    }
   ],
   "source": [
    "ylm[-s][lt,mt,th_i]"
   ]
  },
  {
   "cell_type": "code",
   "execution_count": null,
   "id": "9453dafb",
   "metadata": {},
   "outputs": [],
   "source": []
  }
 ],
 "metadata": {
  "kernelspec": {
   "display_name": "Python 3 (ipykernel)",
   "language": "python",
   "name": "python3"
  },
  "language_info": {
   "codemirror_mode": {
    "name": "ipython",
    "version": 3
   },
   "file_extension": ".py",
   "mimetype": "text/x-python",
   "name": "python",
   "nbconvert_exporter": "python",
   "pygments_lexer": "ipython3",
   "version": "3.9.7"
  }
 },
 "nbformat": 4,
 "nbformat_minor": 5
}
