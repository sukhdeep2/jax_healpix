{
 "cells": [
  {
   "cell_type": "raw",
   "id": "505eb193",
   "metadata": {},
   "source": [
    "\n",
    "from skylens.wigner_transform import *\n",
    "from scipy.special import sph_harm"
   ]
  },
  {
   "cell_type": "code",
   "execution_count": 1,
   "id": "6077cbbe",
   "metadata": {},
   "outputs": [],
   "source": [
    "import jax\n",
    "import jax.numpy as jnp\n",
    "from jax import jit\n",
    "from jax.config import config\n",
    "config.update(\"jax_enable_x64\", True)"
   ]
  },
  {
   "cell_type": "code",
   "execution_count": 2,
   "id": "99c969db",
   "metadata": {},
   "outputs": [],
   "source": [
    "sys.path.append('../jax_healpix/')\n",
    "# from SPHT_jax import *\n",
    "from YLM_jax_log import *\n",
    "from YLM_jax import *\n",
    "from utils import *\n",
    "from reshape_utils import *"
   ]
  },
  {
   "cell_type": "code",
   "execution_count": 3,
   "id": "9cada21a",
   "metadata": {},
   "outputs": [],
   "source": [
    "from scipy.special import binom, jn, loggamma\n",
    "from scipy.special import eval_jacobi as jacobi"
   ]
  },
  {
   "cell_type": "code",
   "execution_count": 4,
   "id": "702529fc",
   "metadata": {},
   "outputs": [],
   "source": [
    "shift=1.e-2\n",
    "theta=jnp.linspace(0+shift,jnp.pi/2-shift,20)\n",
    "beta=jnp.cos(theta)\n",
    "beta_s = jnp.sin(jnp.arccos(beta))"
   ]
  },
  {
   "cell_type": "code",
   "execution_count": 5,
   "id": "eecd93b0",
   "metadata": {},
   "outputs": [],
   "source": [
    "log_beta=jnp.log(beta)"
   ]
  },
  {
   "cell_type": "code",
   "execution_count": 6,
   "id": "6a8d9080",
   "metadata": {},
   "outputs": [],
   "source": [
    "log_beta_s, _ = logsumexp(\n",
    "        2 * log_beta,\n",
    "        jnp.zeros_like(log_beta),\n",
    "        -1 * jnp.ones_like(log_beta),\n",
    "        jnp.ones_like(log_beta),\n",
    "    )  # sin^2=1-cos^2 = 1-beta^2\n",
    "log_beta_s *= 0.5  # sqrt"
   ]
  },
  {
   "cell_type": "code",
   "execution_count": 7,
   "id": "49af8fec",
   "metadata": {},
   "outputs": [
    {
     "data": {
      "text/plain": [
       "DeviceArray([False, False, False, False, False, False, False, False,\n",
       "             False, False, False, False, False, False, False, False,\n",
       "             False, False, False, False], dtype=bool)"
      ]
     },
     "execution_count": 7,
     "metadata": {},
     "output_type": "execute_result"
    }
   ],
   "source": [
    "log_beta_s<-100"
   ]
  },
  {
   "cell_type": "code",
   "execution_count": 8,
   "id": "abfb3afd",
   "metadata": {},
   "outputs": [
    {
     "data": {
      "text/plain": [
       "DeviceArray([-4.60518685e+00, -2.39149577e+00, -1.75807457e+00,\n",
       "             -1.37788015e+00, -1.10814827e+00, -9.01331246e-01,\n",
       "             -7.35669950e-01, -5.99384868e-01, -4.85388641e-01,\n",
       "             -3.89096752e-01, -3.07385116e-01, -2.38041836e-01,\n",
       "             -1.79456572e-01, -1.30434141e-01, -9.00775725e-02,\n",
       "             -5.77122071e-02, -3.28352749e-02, -1.50820163e-02,\n",
       "             -4.20307625e-03, -5.00008334e-05], dtype=float64)"
      ]
     },
     "execution_count": 8,
     "metadata": {},
     "output_type": "execute_result"
    }
   ],
   "source": [
    "jnp.log(beta_s)"
   ]
  },
  {
   "cell_type": "code",
   "execution_count": 9,
   "id": "2fa8c34d",
   "metadata": {},
   "outputs": [],
   "source": [
    "l_max=500\n",
    "l=np.arange(l_max)\n",
    "# l=np.arange(900,l_max)\n",
    "m1=0\n",
    "m2=l*1."
   ]
  },
  {
   "cell_type": "code",
   "execution_count": 10,
   "id": "55f105fe",
   "metadata": {},
   "outputs": [],
   "source": [
    "spin_max=2"
   ]
  },
  {
   "cell_type": "code",
   "execution_count": 11,
   "id": "7acb9e5d",
   "metadata": {
    "scrolled": false
   },
   "outputs": [
    {
     "name": "stdout",
     "output_type": "stream",
     "text": [
      "CPU times: user 4.12 s, sys: 1.91 s, total: 6.03 s\n",
      "Wall time: 1.15 s\n",
      "CPU times: user 4.88 s, sys: 304 ms, total: 5.19 s\n",
      "Wall time: 1.28 s\n"
     ]
    }
   ],
   "source": [
    "%time ylm=sYLM_recur(beta=beta,spins=(0,2),l_max=l_max-1)\n",
    "%time ylm_log=sYLM_recur_log(log_beta=jnp.log(beta),spins=(0,2),l_max=l_max-1)"
   ]
  },
  {
   "cell_type": "code",
   "execution_count": 12,
   "id": "a0f2ec4c",
   "metadata": {},
   "outputs": [
    {
     "data": {
      "text/plain": [
       "DeviceArray([-5.00008334e-05, -4.20307625e-03, -1.50820163e-02,\n",
       "             -3.28352749e-02, -5.77122071e-02, -9.00775725e-02,\n",
       "             -1.30434141e-01, -1.79456572e-01, -2.38041836e-01,\n",
       "             -3.07385116e-01, -3.89096752e-01, -4.85388641e-01,\n",
       "             -5.99384868e-01, -7.35669950e-01, -9.01331246e-01,\n",
       "             -1.10814827e+00, -1.37788015e+00, -1.75807457e+00,\n",
       "             -2.39149577e+00, -4.60518685e+00], dtype=float64)"
      ]
     },
     "execution_count": 12,
     "metadata": {},
     "output_type": "execute_result"
    }
   ],
   "source": [
    "jnp.log(beta)"
   ]
  },
  {
   "cell_type": "raw",
   "id": "5bc9aaa0",
   "metadata": {},
   "source": [
    "s=0\n",
    "ylm2={s:jnp.exp(ylm_log[s])*ylm_log[\"s0\"]}"
   ]
  },
  {
   "cell_type": "code",
   "execution_count": 13,
   "id": "a7b9efda",
   "metadata": {},
   "outputs": [],
   "source": [
    "ylm2=ylm_log"
   ]
  },
  {
   "cell_type": "code",
   "execution_count": 14,
   "id": "737a81af",
   "metadata": {},
   "outputs": [
    {
     "data": {
      "text/plain": [
       "(DeviceArray([-0.01292538, -0.11703697, -0.21455807, -0.30001706,\n",
       "              -0.36865702, -0.41671721, -0.44165529, -0.44229673,\n",
       "              -0.41890288, -0.37315332, -0.30804381, -0.22770578,\n",
       "              -0.13715819, -0.04200664,  0.05189244,  0.13878239,\n",
       "               0.21335072,  0.27104697,  0.30835484,  0.32300245],            dtype=float64),\n",
       " DeviceArray([-0.01292538, -0.11703697, -0.21455807, -0.30001706,\n",
       "              -0.36865702, -0.41671721, -0.44165529, -0.44229673,\n",
       "              -0.41890288, -0.37315332, -0.30804381, -0.22770578,\n",
       "              -0.13715819, -0.04200664,  0.05189244,  0.13878239,\n",
       "               0.21335072,  0.27104697,  0.30835484,  0.32300245],            dtype=float64))"
      ]
     },
     "execution_count": 14,
     "metadata": {},
     "output_type": "execute_result"
    }
   ],
   "source": [
    "lt=3\n",
    "mt=1\n",
    "ylm[0][lt,mt,:],ylm2[0][lt,mt,:]#,ylm_log[0][lt,mt,:]"
   ]
  },
  {
   "cell_type": "code",
   "execution_count": 15,
   "id": "3e48d2fe",
   "metadata": {},
   "outputs": [],
   "source": [
    "log_Alm = log_A_lm(3, 1)\n",
    "log_Alm_prev = log_A_lm(3 - 1, 1)"
   ]
  },
  {
   "cell_type": "code",
   "execution_count": 16,
   "id": "34d8963d",
   "metadata": {},
   "outputs": [
    {
     "data": {
      "text/plain": [
       "(DeviceArray(0.73795326, dtype=float64),\n",
       " DeviceArray(0.80471896, dtype=float64))"
      ]
     },
     "execution_count": 16,
     "metadata": {},
     "output_type": "execute_result"
    }
   ],
   "source": [
    "log_Alm,log_Alm_prev"
   ]
  },
  {
   "cell_type": "code",
   "execution_count": 17,
   "id": "22c135a7",
   "metadata": {},
   "outputs": [
    {
     "data": {
      "text/plain": [
       "DeviceArray(True, dtype=bool)"
      ]
     },
     "execution_count": 17,
     "metadata": {},
     "output_type": "execute_result"
    }
   ],
   "source": [
    "xx=jnp.isclose(ylm[0],ylm2[0])\n",
    "jnp.all(xx)"
   ]
  },
  {
   "cell_type": "code",
   "execution_count": 18,
   "id": "7969cee7",
   "metadata": {},
   "outputs": [
    {
     "data": {
      "text/plain": [
       "(DeviceArray([], dtype=int64),\n",
       " DeviceArray([], dtype=int64),\n",
       " DeviceArray([], dtype=int64))"
      ]
     },
     "execution_count": 18,
     "metadata": {},
     "output_type": "execute_result"
    }
   ],
   "source": [
    "jnp.where(~xx)"
   ]
  },
  {
   "cell_type": "code",
   "execution_count": 19,
   "id": "b0383d06",
   "metadata": {},
   "outputs": [
    {
     "data": {
      "text/plain": [
       "DeviceArray(True, dtype=bool)"
      ]
     },
     "execution_count": 19,
     "metadata": {},
     "output_type": "execute_result"
    }
   ],
   "source": [
    "jnp.all(ylm[0][jnp.where(~xx)]==0)"
   ]
  },
  {
   "cell_type": "code",
   "execution_count": 20,
   "id": "43679307",
   "metadata": {},
   "outputs": [
    {
     "data": {
      "text/plain": [
       "DeviceArray([], dtype=float64)"
      ]
     },
     "execution_count": 20,
     "metadata": {},
     "output_type": "execute_result"
    }
   ],
   "source": [
    "ylm2[0][jnp.where(~xx)]"
   ]
  },
  {
   "cell_type": "code",
   "execution_count": 21,
   "id": "c14b0977",
   "metadata": {},
   "outputs": [
    {
     "data": {
      "text/plain": [
       "(DeviceArray([], dtype=int64),\n",
       " DeviceArray([], dtype=int64),\n",
       " DeviceArray([], dtype=int64))"
      ]
     },
     "execution_count": 21,
     "metadata": {},
     "output_type": "execute_result"
    }
   ],
   "source": [
    "jnp.where(~xx)"
   ]
  },
  {
   "cell_type": "code",
   "execution_count": 22,
   "id": "eec4238f",
   "metadata": {},
   "outputs": [
    {
     "data": {
      "text/plain": [
       "DeviceArray([], dtype=int64)"
      ]
     },
     "execution_count": 22,
     "metadata": {},
     "output_type": "execute_result"
    }
   ],
   "source": [
    "jnp.unique(jnp.where(~xx)[2])"
   ]
  },
  {
   "cell_type": "raw",
   "id": "83111dad",
   "metadata": {},
   "source": [
    "lt=49\n",
    "mt=49\n",
    "ylm[0][lt,mt,:],ylm2[0][lt,mt,:],ylm_log[0][lt,mt,:]"
   ]
  },
  {
   "cell_type": "code",
   "execution_count": 23,
   "id": "317f46bc",
   "metadata": {},
   "outputs": [
    {
     "data": {
      "text/plain": [
       "DeviceArray(True, dtype=bool)"
      ]
     },
     "execution_count": 23,
     "metadata": {},
     "output_type": "execute_result"
    }
   ],
   "source": [
    "s=2\n",
    "xx=jnp.isclose(ylm[s][:,:,0],ylm2[s][:,:,0])\n",
    "jnp.all(xx)"
   ]
  },
  {
   "cell_type": "code",
   "execution_count": 24,
   "id": "dc09a986",
   "metadata": {},
   "outputs": [
    {
     "data": {
      "text/plain": [
       "DeviceArray(True, dtype=bool)"
      ]
     },
     "execution_count": 24,
     "metadata": {},
     "output_type": "execute_result"
    }
   ],
   "source": [
    "s=-2\n",
    "xx=jnp.isclose(ylm[s][:,:,0],ylm2[s][:,:,0])\n",
    "jnp.all(xx)"
   ]
  },
  {
   "cell_type": "raw",
   "id": "7583b633",
   "metadata": {},
   "source": [
    "xx=jnp.isclose(ylm[2],ylm2[2])\n",
    "jnp.all(xx)"
   ]
  },
  {
   "cell_type": "code",
   "execution_count": 25,
   "id": "887122a3",
   "metadata": {},
   "outputs": [],
   "source": [
    "lt,mt=jnp.where(~xx)"
   ]
  },
  {
   "cell_type": "raw",
   "id": "0e7b3156",
   "metadata": {},
   "source": [
    "lt=2\n",
    "mt=1\n",
    "th_i=0\n",
    "\n",
    "alm=alpha_lm(lt,mt)\n",
    "alm_log=log_alpha_lm(lt,mt)\n",
    "\n",
    "ylm[s][lt,mt,th_i],ylm2[s][lt,mt,th_i],ylm[s][lt,mt,th_i]/ylm2[s][lt,mt,th_i]"
   ]
  },
  {
   "cell_type": "code",
   "execution_count": 26,
   "id": "2d342327",
   "metadata": {},
   "outputs": [
    {
     "data": {
      "text/plain": [
       "DeviceArray([], dtype=float64)"
      ]
     },
     "execution_count": 26,
     "metadata": {},
     "output_type": "execute_result"
    }
   ],
   "source": [
    "ylm2[s][jnp.where(~xx)]"
   ]
  },
  {
   "cell_type": "code",
   "execution_count": 27,
   "id": "029fc0f0",
   "metadata": {},
   "outputs": [
    {
     "data": {
      "text/plain": [
       "DeviceArray([], dtype=float64)"
      ]
     },
     "execution_count": 27,
     "metadata": {},
     "output_type": "execute_result"
    }
   ],
   "source": [
    "ylm[s][jnp.where(~xx)]"
   ]
  },
  {
   "cell_type": "code",
   "execution_count": null,
   "id": "2da11501",
   "metadata": {},
   "outputs": [],
   "source": []
  },
  {
   "cell_type": "code",
   "execution_count": 28,
   "id": "55ad967e",
   "metadata": {},
   "outputs": [
    {
     "data": {
      "text/plain": [
       "(DeviceArray(0.23011518, dtype=float64),\n",
       " DeviceArray(0.36480872, dtype=float64))"
      ]
     },
     "execution_count": 28,
     "metadata": {},
     "output_type": "execute_result"
    }
   ],
   "source": [
    "s=2\n",
    "lt=2\n",
    "mt=2\n",
    "th_i=10\n",
    "\n",
    "alm=alpha_lm(lt,mt)\n",
    "alm_log=log_alpha_lm(lt,mt)\n",
    "\n",
    "ylm[s][lt,mt,th_i],ylm[s][lt,mt,th_i]/(np.sqrt(2*lt+1)/np.sqrt(4*np.pi))"
   ]
  },
  {
   "cell_type": "code",
   "execution_count": 29,
   "id": "5aecca55",
   "metadata": {},
   "outputs": [
    {
     "data": {
      "text/plain": [
       "(DeviceArray(0.6776687, dtype=float64), DeviceArray(0.82620859, dtype=float64))"
      ]
     },
     "execution_count": 29,
     "metadata": {},
     "output_type": "execute_result"
    }
   ],
   "source": [
    "beta[th_i],theta[th_i]"
   ]
  },
  {
   "cell_type": "code",
   "execution_count": 30,
   "id": "e893169d",
   "metadata": {},
   "outputs": [],
   "source": [
    "def log_binom(x,y):\n",
    "    return loggamma(x+1)-loggamma(y+1)-loggamma(x-y+1)\n",
    "def wigner_d2(m1, m2, theta, l, l_use_bessel=1.0e3):\n",
    "    \"\"\"\n",
    "    Function to compute wigner small-d matrices.\n",
    "    This maybe less accurate than our main jax functions which use recursion.\n",
    "    \"\"\"\n",
    "    l=l[:,None,None]\n",
    "    m2=m2[None,:,None]\n",
    "    m1=m1*np.ones_like(m2)\n",
    "    theta=theta[None,None,:]\n",
    "    k = np.amin([l - m1, l - m2, l + m1, l + m2], axis=0)\n",
    "    a = np.absolute(m1 - m2)\n",
    "    lamb = m2 - m1  # lambda\n",
    "    x=m2<=m1\n",
    "    lamb[x]=0\n",
    "    b = 2 * l - 2 * k - a\n",
    "\n",
    "#     d_mat = np.sqrt(\n",
    "#         binom(2 * l - k, k + a)\n",
    "#     )\n",
    "    d_mat=0.5*log_binom(2 * l - k, k + a)\n",
    "    \n",
    "#     d_mat /= np.sqrt(binom(k + b, b))\n",
    "    d_mat-=0.5*log_binom(k + b, b)\n",
    "    x = k+b < b\n",
    "    d_mat[x] = -np.inf\n",
    "  \n",
    "    beta_s=np.sin(theta / 2.0)\n",
    "    beta=np.cos(theta / 2.0)\n",
    "    \n",
    "    d_mat=d_mat+a*np.log(np.absolute(beta_s))+b*np.log(np.absolute(beta))\n",
    "    sign_dmat=np.sign(beta_s)**a\n",
    "    sign_dmat=sign_dmat*(np.sign(beta)**b)\n",
    "    \n",
    "    d_mat=sign_dmat*np.exp(d_mat)\n",
    "#     d_mat[x]=0\n",
    "    x = d_mat == 0\n",
    "    d_mat *= jacobi(k, a, b, np.cos(theta))  # l\n",
    "    \n",
    "    d_mat*=(-1)**lamb[0,:,0][None,:,None]\n",
    "    \n",
    "    d_mat[x] = 0\n",
    "\n",
    "    if l_use_bessel is not None:\n",
    "        x = l[:,0,0] >= l_use_bessel\n",
    "\n",
    "        d_mat[x,:,:]=jn(m1-m2,l[x,:,:]*theta)\n",
    "    return d_mat\n"
   ]
  },
  {
   "cell_type": "code",
   "execution_count": 31,
   "id": "81723812",
   "metadata": {},
   "outputs": [
    {
     "data": {
      "text/plain": [
       "(array([[[0.70364307]]]),\n",
       " array([[[0.02597437]]]),\n",
       " array([[[0.72961743]]]),\n",
       " DeviceArray(0.6776687, dtype=float64),\n",
       " DeviceArray(0.82620859, dtype=float64))"
      ]
     },
     "execution_count": 31,
     "metadata": {},
     "output_type": "execute_result"
    }
   ],
   "source": [
    "s=2\n",
    "lt=2\n",
    "mt=2\n",
    "th_i=10\n",
    "\n",
    "alm=alpha_lm(lt,mt)\n",
    "\n",
    "wd=wigner_d2(s, np.atleast_1d(mt), np.atleast_1d(theta[th_i]), np.atleast_1d(lt))\n",
    "wd2=wigner_d2(-s, np.atleast_1d(mt), np.atleast_1d(theta[th_i]), np.atleast_1d(lt))\n",
    "\n",
    "ylm_t=wd*np.sqrt(2*lt+1)/np.sqrt(4*np.pi)\n",
    "ylm_t2=wd2*np.sqrt(2*lt+1)/np.sqrt(4*np.pi)\n",
    "\n",
    "wd,wd2,wd+wd2,beta[th_i],theta[th_i]\n",
    "#https://www.wolframalpha.com/input?i=WignerD%5B%7B2%2C2%2C-2%7D%2C0%2C0.82620859%2C0%5D%2BWignerD%5B%7B2%2C2%2C2%7D%2C0%2C0.82620859%2C0%5D"
   ]
  },
  {
   "cell_type": "code",
   "execution_count": 32,
   "id": "4876a5d8",
   "metadata": {},
   "outputs": [
    {
     "data": {
      "text/plain": [
       "(DeviceArray(0.01638419, dtype=float64),\n",
       " DeviceArray(0.44384618, dtype=float64))"
      ]
     },
     "execution_count": 32,
     "metadata": {},
     "output_type": "execute_result"
    }
   ],
   "source": [
    "ylm[s][lt,mt,th_i]+ylm[-s][lt,mt,th_i], ylm[s][lt,mt,th_i]-ylm[-s][lt,mt,th_i]"
   ]
  },
  {
   "cell_type": "code",
   "execution_count": 33,
   "id": "3e08a655",
   "metadata": {
    "scrolled": true
   },
   "outputs": [
    {
     "data": {
      "text/plain": [
       "(array([[[0.44384618]]]), array([[[0.01638419]]]))"
      ]
     },
     "execution_count": 33,
     "metadata": {},
     "output_type": "execute_result"
    }
   ],
   "source": [
    "ylm_t,ylm_t2"
   ]
  },
  {
   "cell_type": "code",
   "execution_count": 35,
   "id": "413a5dc2",
   "metadata": {},
   "outputs": [
    {
     "data": {
      "text/plain": [
       "(DeviceArray([[[1.]]], dtype=float64), array([[[0.23011518]]]))"
      ]
     },
     "execution_count": 35,
     "metadata": {},
     "output_type": "execute_result"
    }
   ],
   "source": [
    "ylm[s][lt,mt,th_i]/((ylm_t+ylm_t2)/2),((ylm_t+ylm_t2)/2)"
   ]
  },
  {
   "cell_type": "code",
   "execution_count": 36,
   "id": "9af7c65d",
   "metadata": {},
   "outputs": [
    {
     "data": {
      "text/plain": [
       "DeviceArray(0.7725484, dtype=float64)"
      ]
     },
     "execution_count": 36,
     "metadata": {},
     "output_type": "execute_result"
    }
   ],
   "source": [
    "ylm[0][lt,mt,th_i]*(2*(mt**2-lt)-(lt*(lt-1)))/beta_s[th_i]**2 #+ ylm[0][lt-1,mt,th_i]*(2*alm*beta[th_i]/beta_s[th_i]**2)"
   ]
  },
  {
   "cell_type": "code",
   "execution_count": 37,
   "id": "d2d8d6e7",
   "metadata": {},
   "outputs": [
    {
     "data": {
      "text/plain": [
       "DeviceArray(0.23011518, dtype=float64)"
      ]
     },
     "execution_count": 37,
     "metadata": {},
     "output_type": "execute_result"
    }
   ],
   "source": [
    "ylm[s][lt,mt,th_i]"
   ]
  },
  {
   "cell_type": "code",
   "execution_count": 38,
   "id": "7a58dc0b",
   "metadata": {},
   "outputs": [
    {
     "data": {
      "text/plain": [
       "DeviceArray(-0.21373099, dtype=float64)"
      ]
     },
     "execution_count": 38,
     "metadata": {},
     "output_type": "execute_result"
    }
   ],
   "source": [
    "ylm[-s][lt,mt,th_i]"
   ]
  },
  {
   "cell_type": "code",
   "execution_count": null,
   "id": "9453dafb",
   "metadata": {},
   "outputs": [],
   "source": []
  },
  {
   "cell_type": "code",
   "execution_count": null,
   "id": "588ceb3d",
   "metadata": {},
   "outputs": [],
   "source": []
  },
  {
   "cell_type": "code",
   "execution_count": 39,
   "id": "cfe49982",
   "metadata": {},
   "outputs": [],
   "source": [
    "from jax.scipy.special import gammaln as loggamma"
   ]
  },
  {
   "cell_type": "code",
   "execution_count": 40,
   "id": "6996a2a0",
   "metadata": {},
   "outputs": [
    {
     "data": {
      "text/plain": [
       "DeviceArray(82099.71749644, dtype=float64)"
      ]
     },
     "execution_count": 40,
     "metadata": {},
     "output_type": "execute_result"
    }
   ],
   "source": [
    "loggamma(10000)"
   ]
  },
  {
   "cell_type": "code",
   "execution_count": null,
   "id": "86918cea",
   "metadata": {},
   "outputs": [],
   "source": []
  }
 ],
 "metadata": {
  "kernelspec": {
   "display_name": "Python 3 (ipykernel)",
   "language": "python",
   "name": "python3"
  },
  "language_info": {
   "codemirror_mode": {
    "name": "ipython",
    "version": 3
   },
   "file_extension": ".py",
   "mimetype": "text/x-python",
   "name": "python",
   "nbconvert_exporter": "python",
   "pygments_lexer": "ipython3",
   "version": "3.9.7"
  }
 },
 "nbformat": 4,
 "nbformat_minor": 5
}
